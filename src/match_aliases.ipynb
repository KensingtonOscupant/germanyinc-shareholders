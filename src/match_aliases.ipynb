{
 "cells": [
  {
   "cell_type": "markdown",
   "metadata": {},
   "source": [
    "Note: In this document, I am matching rows that previously didn't have an OpenCorporates URL with the alias of a matched record and insert that record's OpenCorporates URL into the record where it is still missing."
   ]
  },
  {
   "cell_type": "code",
   "execution_count": 1,
   "metadata": {},
   "outputs": [],
   "source": [
    "import pandas as pd\n",
    "import os\n",
    "import dotenv\n",
    "import requests\n",
    "import json\n",
    "from tqdm import tqdm\n",
    "import ast\n",
    "\n",
    "# set up environment variables\n",
    "dotenv.load_dotenv()\n",
    "OPENCORPORATES_API_KEY = os.getenv(\"OPENCORPORATES_API_KEY\")"
   ]
  },
  {
   "cell_type": "code",
   "execution_count": 2,
   "metadata": {},
   "outputs": [],
   "source": [
    "df = pd.read_csv('../data/combined.csv')"
   ]
  },
  {
   "cell_type": "code",
   "execution_count": 3,
   "metadata": {},
   "outputs": [],
   "source": [
    "# Iterate through each row in the DataFrame\n",
    "for index, row in df.iterrows():\n",
    "    # Check if 'previous_names' column has any aliases\n",
    "    if pd.notna(row['previous_names']):\n",
    "        # Convert the string representation of the list to an actual list\n",
    "        aliases = ast.literal_eval(row['previous_names'])\n",
    "        \n",
    "        # Iterate through aliases\n",
    "        for alias in aliases:\n",
    "            # Remove leading and trailing whitespaces\n",
    "            alias = alias.strip()\n",
    "            \n",
    "            # Check if the alias exists in 'notifying_party' column of other rows\n",
    "            alias_exists = df[df['notifying_party'] == alias]\n",
    "            \n",
    "            if not alias_exists.empty:\n",
    "                # Get the URL from the row where the alias comes from\n",
    "                alias_url = row['OpenCorporates URL']\n",
    "                \n",
    "                # Update the URL column in rows where the alias appears\n",
    "                df.loc[alias_exists.index, 'OpenCorporates URL'] = alias_url\n",
    "\n",
    "# Save the updated DataFrame to a CSV file\n",
    "df.to_csv('../data/df_with_aliases.csv', index=False)"
   ]
  }
 ],
 "metadata": {
  "kernelspec": {
   "display_name": "germanyinc_venv",
   "language": "python",
   "name": "python3"
  },
  "language_info": {
   "codemirror_mode": {
    "name": "ipython",
    "version": 3
   },
   "file_extension": ".py",
   "mimetype": "text/x-python",
   "name": "python",
   "nbconvert_exporter": "python",
   "pygments_lexer": "ipython3",
   "version": "3.10.2"
  },
  "orig_nbformat": 4
 },
 "nbformat": 4,
 "nbformat_minor": 2
}
