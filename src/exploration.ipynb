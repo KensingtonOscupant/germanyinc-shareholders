{
 "cells": [
  {
   "attachments": {},
   "cell_type": "markdown",
   "metadata": {},
   "source": [
    "# Germany Inc Shareholders - Consolidation"
   ]
  },
  {
   "attachments": {},
   "cell_type": "markdown",
   "metadata": {},
   "source": [
    "**Note:** If you would like to use the table of contents below to navigate to sections of the document, please click [here](https://nbviewer.org/github/KensingtonOscupant/germanyinc-shareholders/blob/main/src/exploration.ipynb)."
   ]
  },
  {
   "attachments": {},
   "cell_type": "markdown",
   "metadata": {
    "tags": []
   },
   "source": [
    "## Table of contents\n",
    "\n",
    "[I. Loading the data](#section_id1)  \n",
    "[II. Preprocessing](#section_id2)  \n",
    "&nbsp;&nbsp;&nbsp;&nbsp;[1. Overview](#section_id3)  \n",
    "&nbsp;&nbsp;&nbsp;&nbsp;[2. Preprocessing](#section_id4)  \n",
    "&nbsp;&nbsp;&nbsp;&nbsp;&nbsp;&nbsp;&nbsp;&nbsp;[a. Using the cleaning script from \"Key Identity\"](#section_id5)  \n",
    "&nbsp;&nbsp;&nbsp;&nbsp;&nbsp;&nbsp;&nbsp;&nbsp;[b. Using information from \"Key Identity\"](#section_id6)  \n",
    "&nbsp;&nbsp;&nbsp;&nbsp;&nbsp;&nbsp;&nbsp;&nbsp;[c. Establishing a ground truth](#section_id7)  \n",
    "&nbsp;&nbsp;&nbsp;&nbsp;&nbsp;&nbsp;&nbsp;&nbsp;&nbsp;&nbsp;&nbsp;&nbsp;[aa. Reconciling data with the OpenCorporates Reconciliation API](#section_id8)  \n",
    "&nbsp;&nbsp;&nbsp;&nbsp;&nbsp;&nbsp;&nbsp;&nbsp;&nbsp;&nbsp;&nbsp;&nbsp;[bb. Retrieving previous company names from OpenCorporates](#section_id9)  \n",
    "&nbsp;&nbsp;&nbsp;&nbsp;&nbsp;&nbsp;&nbsp;&nbsp;&nbsp;&nbsp;&nbsp;&nbsp;[cc. Matching notifying parties using GPT3.5](#section_id10)  \n"
   ]
  },
  {
   "attachments": {},
   "cell_type": "markdown",
   "metadata": {},
   "source": [
    "<a id='section_id1'></a>"
   ]
  },
  {
   "attachments": {},
   "cell_type": "markdown",
   "metadata": {},
   "source": [
    "## I. Loading the data"
   ]
  },
  {
   "cell_type": "code",
   "execution_count": 1,
   "metadata": {},
   "outputs": [
    {
     "data": {
      "text/html": [
       "<div>\n",
       "<style scoped>\n",
       "    .dataframe tbody tr th:only-of-type {\n",
       "        vertical-align: middle;\n",
       "    }\n",
       "\n",
       "    .dataframe tbody tr th {\n",
       "        vertical-align: top;\n",
       "    }\n",
       "\n",
       "    .dataframe thead th {\n",
       "        text-align: right;\n",
       "    }\n",
       "</style>\n",
       "<table border=\"1\" class=\"dataframe\">\n",
       "  <thead>\n",
       "    <tr style=\"text-align: right;\">\n",
       "      <th></th>\n",
       "      <th>Unnamed: 0</th>\n",
       "      <th>issuer</th>\n",
       "      <th>domicile</th>\n",
       "      <th>state</th>\n",
       "      <th>notifying_party</th>\n",
       "      <th>domicile_not</th>\n",
       "      <th>total_participation_shares</th>\n",
       "      <th>participation_instruments</th>\n",
       "      <th>aggregation</th>\n",
       "      <th>publication</th>\n",
       "      <th>direct_participation</th>\n",
       "      <th>single_rights_1</th>\n",
       "      <th>attributable_participation</th>\n",
       "      <th>single_rights_2</th>\n",
       "      <th>single_rights_3</th>\n",
       "      <th>gazette_1</th>\n",
       "      <th>gazette_2</th>\n",
       "      <th>state_2</th>\n",
       "      <th>date</th>\n",
       "      <th>table_date</th>\n",
       "    </tr>\n",
       "  </thead>\n",
       "  <tbody>\n",
       "    <tr>\n",
       "      <th>0</th>\n",
       "      <td>1</td>\n",
       "      <td>A.A.A. Aktiengesellschaft Allgemeine Anlagever...</td>\n",
       "      <td>Frankfurt am Main</td>\n",
       "      <td>NaN</td>\n",
       "      <td>ROTHENBERGER Vermögensverwaltung GbR 4xS</td>\n",
       "      <td>NaN</td>\n",
       "      <td>29.62</td>\n",
       "      <td>NaN</td>\n",
       "      <td>NaN</td>\n",
       "      <td>1999-05-11</td>\n",
       "      <td>29.62</td>\n",
       "      <td>NaN</td>\n",
       "      <td>NaN</td>\n",
       "      <td>NaN</td>\n",
       "      <td>NaN</td>\n",
       "      <td>Börsen-Zeitung</td>\n",
       "      <td>NaN</td>\n",
       "      <td>NaN</td>\n",
       "      <td>NaN</td>\n",
       "      <td>200001.0</td>\n",
       "    </tr>\n",
       "    <tr>\n",
       "      <th>1</th>\n",
       "      <td>2</td>\n",
       "      <td>A.A.A. Aktiengesellschaft Allgemeine Anlagever...</td>\n",
       "      <td>Frankfurt am Main</td>\n",
       "      <td>NaN</td>\n",
       "      <td>Rothenberger, Dr., Helmut</td>\n",
       "      <td>NaN</td>\n",
       "      <td>11.93</td>\n",
       "      <td>NaN</td>\n",
       "      <td>NaN</td>\n",
       "      <td>1995-10-07</td>\n",
       "      <td>11.93</td>\n",
       "      <td>NaN</td>\n",
       "      <td>NaN</td>\n",
       "      <td>NaN</td>\n",
       "      <td>NaN</td>\n",
       "      <td>Börsen-Zeitung</td>\n",
       "      <td>NaN</td>\n",
       "      <td>NaN</td>\n",
       "      <td>NaN</td>\n",
       "      <td>200001.0</td>\n",
       "    </tr>\n",
       "    <tr>\n",
       "      <th>2</th>\n",
       "      <td>3</td>\n",
       "      <td>A.S. Création Tapeten Aktiengesellschaft</td>\n",
       "      <td>Gummersbach</td>\n",
       "      <td>NaN</td>\n",
       "      <td>Schneider, Franz Jürgen</td>\n",
       "      <td>NaN</td>\n",
       "      <td>33.10</td>\n",
       "      <td>NaN</td>\n",
       "      <td>NaN</td>\n",
       "      <td>1998-07-08</td>\n",
       "      <td>33.10</td>\n",
       "      <td>NaN</td>\n",
       "      <td>NaN</td>\n",
       "      <td>NaN</td>\n",
       "      <td>NaN</td>\n",
       "      <td>Handelsblatt</td>\n",
       "      <td>NaN</td>\n",
       "      <td>NaN</td>\n",
       "      <td>NaN</td>\n",
       "      <td>200001.0</td>\n",
       "    </tr>\n",
       "    <tr>\n",
       "      <th>3</th>\n",
       "      <td>4</td>\n",
       "      <td>A.S. Création Tapeten Aktiengesellschaft</td>\n",
       "      <td>Gummersbach</td>\n",
       "      <td>NaN</td>\n",
       "      <td>3i Group plc</td>\n",
       "      <td>NaN</td>\n",
       "      <td>23.34</td>\n",
       "      <td>NaN</td>\n",
       "      <td>NaN</td>\n",
       "      <td>1998-07-08</td>\n",
       "      <td>0.00</td>\n",
       "      <td>NaN</td>\n",
       "      <td>23.34</td>\n",
       "      <td>NaN</td>\n",
       "      <td>NaN</td>\n",
       "      <td>Handelsblatt</td>\n",
       "      <td>NaN</td>\n",
       "      <td>NaN</td>\n",
       "      <td>NaN</td>\n",
       "      <td>200001.0</td>\n",
       "    </tr>\n",
       "    <tr>\n",
       "      <th>4</th>\n",
       "      <td>5</td>\n",
       "      <td>A.S. Création Tapeten Aktiengesellschaft</td>\n",
       "      <td>Gummersbach</td>\n",
       "      <td>NaN</td>\n",
       "      <td>3i Deutschland Gesellschaft für Industriebetei...</td>\n",
       "      <td>NaN</td>\n",
       "      <td>23.34</td>\n",
       "      <td>NaN</td>\n",
       "      <td>NaN</td>\n",
       "      <td>1998-07-08</td>\n",
       "      <td>23.34</td>\n",
       "      <td>NaN</td>\n",
       "      <td>NaN</td>\n",
       "      <td>NaN</td>\n",
       "      <td>NaN</td>\n",
       "      <td>Handelsblatt</td>\n",
       "      <td>NaN</td>\n",
       "      <td>NaN</td>\n",
       "      <td>NaN</td>\n",
       "      <td>200001.0</td>\n",
       "    </tr>\n",
       "  </tbody>\n",
       "</table>\n",
       "</div>"
      ],
      "text/plain": [
       "   Unnamed: 0                                             issuer  \\\n",
       "0           1  A.A.A. Aktiengesellschaft Allgemeine Anlagever...   \n",
       "1           2  A.A.A. Aktiengesellschaft Allgemeine Anlagever...   \n",
       "2           3           A.S. Création Tapeten Aktiengesellschaft   \n",
       "3           4           A.S. Création Tapeten Aktiengesellschaft   \n",
       "4           5           A.S. Création Tapeten Aktiengesellschaft   \n",
       "\n",
       "            domicile state                                    notifying_party  \\\n",
       "0  Frankfurt am Main   NaN           ROTHENBERGER Vermögensverwaltung GbR 4xS   \n",
       "1  Frankfurt am Main   NaN                          Rothenberger, Dr., Helmut   \n",
       "2        Gummersbach   NaN                            Schneider, Franz Jürgen   \n",
       "3        Gummersbach   NaN                                       3i Group plc   \n",
       "4        Gummersbach   NaN  3i Deutschland Gesellschaft für Industriebetei...   \n",
       "\n",
       "  domicile_not  total_participation_shares  participation_instruments  \\\n",
       "0          NaN                       29.62                        NaN   \n",
       "1          NaN                       11.93                        NaN   \n",
       "2          NaN                       33.10                        NaN   \n",
       "3          NaN                       23.34                        NaN   \n",
       "4          NaN                       23.34                        NaN   \n",
       "\n",
       "   aggregation publication  direct_participation  single_rights_1  \\\n",
       "0          NaN  1999-05-11                 29.62              NaN   \n",
       "1          NaN  1995-10-07                 11.93              NaN   \n",
       "2          NaN  1998-07-08                 33.10              NaN   \n",
       "3          NaN  1998-07-08                  0.00              NaN   \n",
       "4          NaN  1998-07-08                 23.34              NaN   \n",
       "\n",
       "   attributable_participation  single_rights_2  single_rights_3  \\\n",
       "0                         NaN              NaN              NaN   \n",
       "1                         NaN              NaN              NaN   \n",
       "2                         NaN              NaN              NaN   \n",
       "3                       23.34              NaN              NaN   \n",
       "4                         NaN              NaN              NaN   \n",
       "\n",
       "        gazette_1 gazette_2 state_2 date  table_date  \n",
       "0  Börsen-Zeitung       NaN     NaN  NaN    200001.0  \n",
       "1  Börsen-Zeitung       NaN     NaN  NaN    200001.0  \n",
       "2    Handelsblatt       NaN     NaN  NaN    200001.0  \n",
       "3    Handelsblatt       NaN     NaN  NaN    200001.0  \n",
       "4    Handelsblatt       NaN     NaN  NaN    200001.0  "
      ]
     },
     "execution_count": 1,
     "metadata": {},
     "output_type": "execute_result"
    }
   ],
   "source": [
    "import pandas as pd\n",
    "import seaborn as sns\n",
    "import matplotlib.pyplot as plt\n",
    "import numpy as np\n",
    "\n",
    "# Read the data\n",
    "df = pd.read_csv('../data/mydata.csv', low_memory=False)\n",
    "# Print the first few rows of the data\n",
    "df.head()"
   ]
  },
  {
   "attachments": {},
   "cell_type": "markdown",
   "metadata": {},
   "source": [
    "<a id='section_id2'></a>"
   ]
  },
  {
   "attachments": {},
   "cell_type": "markdown",
   "metadata": {},
   "source": [
    "## II. Preprocessing"
   ]
  },
  {
   "attachments": {},
   "cell_type": "markdown",
   "metadata": {},
   "source": [
    "<a id='section_id3'></a>"
   ]
  },
  {
   "attachments": {},
   "cell_type": "markdown",
   "metadata": {
    "tags": [
     "consolidation"
    ]
   },
   "source": [
    "### 1. Overview\n",
    "\n",
    "In order to implement any of the rules, we need to consolidate the list of shareholders. First, I will group all entries by exact matches and sort them from the largest to smallest group. Then, I will create a plot that shows the first 100 rows of that sorted dataframe.\n",
    "\n"
   ]
  },
  {
   "cell_type": "code",
   "execution_count": 2,
   "metadata": {},
   "outputs": [
    {
     "name": "stdout",
     "output_type": "stream",
     "text": [
      "14457\n"
     ]
    },
    {
     "data": {
      "text/html": [
       "<div>\n",
       "<style scoped>\n",
       "    .dataframe tbody tr th:only-of-type {\n",
       "        vertical-align: middle;\n",
       "    }\n",
       "\n",
       "    .dataframe tbody tr th {\n",
       "        vertical-align: top;\n",
       "    }\n",
       "\n",
       "    .dataframe thead th {\n",
       "        text-align: right;\n",
       "    }\n",
       "</style>\n",
       "<table border=\"1\" class=\"dataframe\">\n",
       "  <thead>\n",
       "    <tr style=\"text-align: right;\">\n",
       "      <th></th>\n",
       "      <th>notifying_party</th>\n",
       "      <th>counts</th>\n",
       "    </tr>\n",
       "  </thead>\n",
       "  <tbody>\n",
       "    <tr>\n",
       "      <th>1858</th>\n",
       "      <td>BlackRock, Inc.</td>\n",
       "      <td>9412</td>\n",
       "    </tr>\n",
       "    <tr>\n",
       "      <th>1172</th>\n",
       "      <td>Axxion S.A.</td>\n",
       "      <td>4951</td>\n",
       "    </tr>\n",
       "    <tr>\n",
       "      <th>3201</th>\n",
       "      <td>DWS Investment GmbH</td>\n",
       "      <td>4218</td>\n",
       "    </tr>\n",
       "    <tr>\n",
       "      <th>822</th>\n",
       "      <td>Allianz Global Investors GmbH</td>\n",
       "      <td>3636</td>\n",
       "    </tr>\n",
       "    <tr>\n",
       "      <th>12661</th>\n",
       "      <td>The Capital Group Companies, Inc.</td>\n",
       "      <td>3251</td>\n",
       "    </tr>\n",
       "    <tr>\n",
       "      <th>13072</th>\n",
       "      <td>Universal-Investment-Gesellschaft mit beschrän...</td>\n",
       "      <td>3142</td>\n",
       "    </tr>\n",
       "    <tr>\n",
       "      <th>1392</th>\n",
       "      <td>Baden-Württembergische Versorgungsanstalt für ...</td>\n",
       "      <td>2926</td>\n",
       "    </tr>\n",
       "    <tr>\n",
       "      <th>7451</th>\n",
       "      <td>LBBW Asset Management Investmentgesellschaft mbH</td>\n",
       "      <td>2740</td>\n",
       "    </tr>\n",
       "    <tr>\n",
       "      <th>1846</th>\n",
       "      <td>BlackRock Holdco 2, Inc.</td>\n",
       "      <td>2735</td>\n",
       "    </tr>\n",
       "    <tr>\n",
       "      <th>14169</th>\n",
       "      <td>Zours, Wilhelm Konrad Thomas</td>\n",
       "      <td>2609</td>\n",
       "    </tr>\n",
       "    <tr>\n",
       "      <th>2456</th>\n",
       "      <td>Capital Research and Management Company</td>\n",
       "      <td>2311</td>\n",
       "    </tr>\n",
       "    <tr>\n",
       "      <th>8426</th>\n",
       "      <td>Massachusetts Financial Services Company (MFS)</td>\n",
       "      <td>2163</td>\n",
       "    </tr>\n",
       "    <tr>\n",
       "      <th>4207</th>\n",
       "      <td>FMR LLC</td>\n",
       "      <td>2060</td>\n",
       "    </tr>\n",
       "    <tr>\n",
       "      <th>11931</th>\n",
       "      <td>Staat Norwegen</td>\n",
       "      <td>1969</td>\n",
       "    </tr>\n",
       "    <tr>\n",
       "      <th>1842</th>\n",
       "      <td>BlackRock Financial Management, Inc.</td>\n",
       "      <td>1955</td>\n",
       "    </tr>\n",
       "    <tr>\n",
       "      <th>833</th>\n",
       "      <td>Allianz SE</td>\n",
       "      <td>1821</td>\n",
       "    </tr>\n",
       "    <tr>\n",
       "      <th>13050</th>\n",
       "      <td>Union Investment Privatfonds GmbH</td>\n",
       "      <td>1803</td>\n",
       "    </tr>\n",
       "    <tr>\n",
       "      <th>3456</th>\n",
       "      <td>Dimensional Holdings Inc.</td>\n",
       "      <td>1728</td>\n",
       "    </tr>\n",
       "    <tr>\n",
       "      <th>898</th>\n",
       "      <td>Ameriprise Financial, Inc.</td>\n",
       "      <td>1692</td>\n",
       "    </tr>\n",
       "    <tr>\n",
       "      <th>807</th>\n",
       "      <td>Allianz Aktiengesellschaft</td>\n",
       "      <td>1665</td>\n",
       "    </tr>\n",
       "  </tbody>\n",
       "</table>\n",
       "</div>"
      ],
      "text/plain": [
       "                                         notifying_party  counts\n",
       "1858                                     BlackRock, Inc.    9412\n",
       "1172                                         Axxion S.A.    4951\n",
       "3201                                 DWS Investment GmbH    4218\n",
       "822                        Allianz Global Investors GmbH    3636\n",
       "12661                  The Capital Group Companies, Inc.    3251\n",
       "13072  Universal-Investment-Gesellschaft mit beschrän...    3142\n",
       "1392   Baden-Württembergische Versorgungsanstalt für ...    2926\n",
       "7451    LBBW Asset Management Investmentgesellschaft mbH    2740\n",
       "1846                            BlackRock Holdco 2, Inc.    2735\n",
       "14169                       Zours, Wilhelm Konrad Thomas    2609\n",
       "2456             Capital Research and Management Company    2311\n",
       "8426      Massachusetts Financial Services Company (MFS)    2163\n",
       "4207                                             FMR LLC    2060\n",
       "11931                                     Staat Norwegen    1969\n",
       "1842                BlackRock Financial Management, Inc.    1955\n",
       "833                                           Allianz SE    1821\n",
       "13050                  Union Investment Privatfonds GmbH    1803\n",
       "3456                           Dimensional Holdings Inc.    1728\n",
       "898                           Ameriprise Financial, Inc.    1692\n",
       "807                           Allianz Aktiengesellschaft    1665"
      ]
     },
     "execution_count": 2,
     "metadata": {},
     "output_type": "execute_result"
    },
    {
     "data": {
      "image/png": "[encoded data removed]",
      "text/plain": [
       "<Figure size 640x480 with 1 Axes>"
      ]
     },
     "metadata": {},
     "output_type": "display_data"
    }
   ],
   "source": [
    "# group by notifying party and aggregate the number of entries\n",
    "df_grouped = df.groupby(['notifying_party']).size().reset_index(name='counts')\n",
    "print(len(df_grouped))\n",
    "# sort this dataframe by the number of entries\n",
    "df_grouped = df_grouped.sort_values(by=['counts'], ascending=False)\n",
    "# plot only every 100th entry to generate it faster\n",
    "sns.lineplot(x='notifying_party', y='counts', data=df_grouped[:100])\n",
    "\n",
    "# Set custom x-axis and y-axis labels\n",
    "plt.xlabel('Top 100 notifying parties by number of exactly matching notifications')\n",
    "plt.ylabel('Number of notifications')\n",
    "\n",
    "# Set custom x-axis tick locations and labels\n",
    "tick_locations = range(10, 100, 10)\n",
    "tick_labels = [str(i) for i in tick_locations]\n",
    "\n",
    "plt.xticks(tick_locations, tick_labels)\n",
    "\n",
    "df_grouped.head(20)\n"
   ]
  },
  {
   "attachments": {},
   "cell_type": "markdown",
   "metadata": {},
   "source": [
    "Among the shareholders with the highest numbers of records, there is a high number of asset managers. The largest groups also account for the bulk of the overall number of records. This can also be spot-checked by inserting a statement like df_grouped['counts'].iloc[some index, like 5846 or 11937 or 14101] below the line where dataframe is sorted."
   ]
  },
  {
   "attachments": {},
   "cell_type": "markdown",
   "metadata": {},
   "source": [
    "<a id='section_id4'></a>"
   ]
  },
  {
   "attachments": {},
   "cell_type": "markdown",
   "metadata": {},
   "source": [
    "### 2. Preprocessing steps\n",
    "\n",
    "To consolidate the the data, we first need to ensure that each notifying party does not appear as two or more seemingly distinct entities in the data. Firstly, we will therefore focus on consolidating the unique values in the notifying_party column."
   ]
  },
  {
   "cell_type": "code",
   "execution_count": 3,
   "metadata": {},
   "outputs": [],
   "source": [
    "# create a dataframe with just the unique notifying parties\n",
    "unique_notifying_parties = df.drop_duplicates(subset=['notifying_party'], keep='first')\n",
    "\n",
    "# drop all other columns\n",
    "unique_notifying_parties = unique_notifying_parties[['notifying_party']]\n",
    "\n",
    "# # Export the unique notifying parties to a CSV file\n",
    "# # pd.DataFrame(unique_notifying_parties, columns=['notifying_party']).to_csv('unique_notifying_parties.csv', index=False)"
   ]
  },
  {
   "cell_type": "markdown",
   "metadata": {},
   "source": [
    "<a id='section_id5'></a>"
   ]
  },
  {
   "attachments": {},
   "cell_type": "markdown",
   "metadata": {},
   "source": [
    "#### a. Data cleaning\n",
    "\n",
    "Before properly working with the data, I applied some simple cleaning rules with regex:"
   ]
  },
  {
   "cell_type": "code",
   "execution_count": 4,
   "metadata": {},
   "outputs": [],
   "source": [
    "import re\n",
    "\n",
    "def clean_name(name):\n",
    "    if type(name) == str:\n",
    "        name = name.lower()\n",
    "        name = re.sub('aktiengesellschaft', 'ag', name)\n",
    "        name = re.sub('kommanditgesellschaft auf aktien', 'kgaa', name)\n",
    "        name = re.sub('&', 'und', name)\n",
    "        name = re.sub('ß', 'ss', name)\n",
    "        name = re.sub('ö', 'oe', name)\n",
    "        name = re.sub('ü', 'ue', name)\n",
    "        name = re.sub('ä', 'ae', name)\n",
    "        name = re.sub('i\\.l\\.', '', name)\n",
    "        name = re.sub('i\\.k\\.', '', name)\n",
    "        name = re.sub('i\\.a\\.', '', name)\n",
    "        name = re.sub('i\\.a', '', name)\n",
    "        name = re.sub('\\-', '', name)\n",
    "        name = re.sub('\\:', '', name)\n",
    "        name = re.sub('_', '', name)\n",
    "        name = re.sub('\\+', '', name)\n",
    "        name = re.sub(',', '', name)\n",
    "        name = re.sub('\\?', '', name)\n",
    "        name = re.sub(\"'\", '', name)\n",
    "        name = re.sub('\\.', '', name)\n",
    "        name = re.sub('/', '', name)\n",
    "        name = re.sub('!', '', name)\n",
    "        name = re.sub('<', '', name)\n",
    "        name = re.sub('>', '', name)\n",
    "        name = re.sub('\"', '', name)\n",
    "        name = re.sub('„', '', name)\n",
    "        name = re.sub('“', '', name)\n",
    "        name = re.sub('”', '', name)\n",
    "        name = re.sub('·', '', name)\n",
    "        name = re.sub('\\s', '', name)\n",
    "        name = name.strip()\n",
    "    return name"
   ]
  },
  {
   "attachments": {},
   "cell_type": "markdown",
   "metadata": {},
   "source": [
    "<a id='section_id6'></a>"
   ]
  },
  {
   "attachments": {},
   "cell_type": "markdown",
   "metadata": {},
   "source": [
    "#### b. Using information already collected elsewhere in the project\n",
    "\n",
    "From the \"Key\" part of the Germany Inc. project, we already have a list that contains all spellings of the companies as they appear in the \"issuers\" column. Spellings that belong to one company have been assigned the same `company_id`. Since this dataframe does not only focus on different spellings, but on different spelling-ISIN combinations, the same spellings appear multiple times. To get a list of all unique spellings, we will drop duplicates on the `name` column:"
   ]
  },
  {
   "cell_type": "code",
   "execution_count": 5,
   "metadata": {},
   "outputs": [
    {
     "name": "stdout",
     "output_type": "stream",
     "text": [
      "17821\n"
     ]
    },
    {
     "data": {
      "text/html": [
       "<div>\n",
       "<style scoped>\n",
       "    .dataframe tbody tr th:only-of-type {\n",
       "        vertical-align: middle;\n",
       "    }\n",
       "\n",
       "    .dataframe tbody tr th {\n",
       "        vertical-align: top;\n",
       "    }\n",
       "\n",
       "    .dataframe thead th {\n",
       "        text-align: right;\n",
       "    }\n",
       "</style>\n",
       "<table border=\"1\" class=\"dataframe\">\n",
       "  <thead>\n",
       "    <tr style=\"text-align: right;\">\n",
       "      <th></th>\n",
       "      <th>Unnamed: 0</th>\n",
       "      <th>wkn</th>\n",
       "      <th>name</th>\n",
       "      <th>isin</th>\n",
       "      <th>ag</th>\n",
       "      <th>id</th>\n",
       "      <th>company_id</th>\n",
       "    </tr>\n",
       "  </thead>\n",
       "  <tbody>\n",
       "    <tr>\n",
       "      <th>0</th>\n",
       "      <td>1</td>\n",
       "      <td>121806</td>\n",
       "      <td>Altira Aktiengesellschaft</td>\n",
       "      <td>DE0001218063</td>\n",
       "      <td>altiraag</td>\n",
       "      <td>1</td>\n",
       "      <td>1</td>\n",
       "    </tr>\n",
       "    <tr>\n",
       "      <th>1</th>\n",
       "      <td>2</td>\n",
       "      <td>121806</td>\n",
       "      <td>FinLab AG</td>\n",
       "      <td>DE0001218063</td>\n",
       "      <td>finlabag</td>\n",
       "      <td>1</td>\n",
       "      <td>1</td>\n",
       "    </tr>\n",
       "    <tr>\n",
       "      <th>2</th>\n",
       "      <td>3</td>\n",
       "      <td>121806</td>\n",
       "      <td>Themis Capital Group AG</td>\n",
       "      <td>NaN</td>\n",
       "      <td>themiscapitalgroupag</td>\n",
       "      <td>1</td>\n",
       "      <td>1</td>\n",
       "    </tr>\n",
       "    <tr>\n",
       "      <th>3</th>\n",
       "      <td>4</td>\n",
       "      <td>126174</td>\n",
       "      <td>UTIMACO Safeware Aktiengesellschaft</td>\n",
       "      <td>DE0001261741</td>\n",
       "      <td>utimacosafewareag</td>\n",
       "      <td>2</td>\n",
       "      <td>2</td>\n",
       "    </tr>\n",
       "    <tr>\n",
       "      <th>4</th>\n",
       "      <td>5</td>\n",
       "      <td>126174</td>\n",
       "      <td>Utimaco Safeware AG</td>\n",
       "      <td>DE0001261741</td>\n",
       "      <td>utimacosafewareag</td>\n",
       "      <td>2</td>\n",
       "      <td>2</td>\n",
       "    </tr>\n",
       "  </tbody>\n",
       "</table>\n",
       "</div>"
      ],
      "text/plain": [
       "   Unnamed: 0     wkn                                 name          isin  \\\n",
       "0           1  121806            Altira Aktiengesellschaft  DE0001218063   \n",
       "1           2  121806                            FinLab AG  DE0001218063   \n",
       "2           3  121806              Themis Capital Group AG           NaN   \n",
       "3           4  126174  UTIMACO Safeware Aktiengesellschaft  DE0001261741   \n",
       "4           5  126174                  Utimaco Safeware AG  DE0001261741   \n",
       "\n",
       "                     ag  id  company_id  \n",
       "0              altiraag   1           1  \n",
       "1              finlabag   1           1  \n",
       "2  themiscapitalgroupag   1           1  \n",
       "3     utimacosafewareag   2           2  \n",
       "4     utimacosafewareag   2           2  "
      ]
     },
     "execution_count": 5,
     "metadata": {},
     "output_type": "execute_result"
    }
   ],
   "source": [
    "df_dba_spellings = pd.read_csv('../data/names.csv')\n",
    "print(len(df_dba_spellings))\n",
    "df_dba_spellings.drop_duplicates(subset=['name'], inplace=True)\n",
    "df_dba_spellings.head()"
   ]
  },
  {
   "attachments": {},
   "cell_type": "markdown",
   "metadata": {},
   "source": [
    "To find alias groups in our dataframe of different spellings of issuers, we will join `df_dba_spellings` on the `notifying_party` column of the `unique_notifying_parties`. Now, we can filter for records that were successfully matched, i.e. where `company_id` is not NaN and group these records by `company_id` to see which companies have how many aliases present in their data:"
   ]
  },
  {
   "cell_type": "code",
   "execution_count": 14,
   "metadata": {},
   "outputs": [
    {
     "name": "stdout",
     "output_type": "stream",
     "text": [
      "Number of matched records from unique_notifying_parties: 666\n"
     ]
    },
    {
     "data": {
      "text/html": [
       "<div>\n",
       "<style scoped>\n",
       "    .dataframe tbody tr th:only-of-type {\n",
       "        vertical-align: middle;\n",
       "    }\n",
       "\n",
       "    .dataframe tbody tr th {\n",
       "        vertical-align: top;\n",
       "    }\n",
       "\n",
       "    .dataframe thead th {\n",
       "        text-align: right;\n",
       "    }\n",
       "</style>\n",
       "<table border=\"1\" class=\"dataframe\">\n",
       "  <thead>\n",
       "    <tr style=\"text-align: right;\">\n",
       "      <th></th>\n",
       "      <th>company_id</th>\n",
       "      <th>counts</th>\n",
       "    </tr>\n",
       "  </thead>\n",
       "  <tbody>\n",
       "    <tr>\n",
       "      <th>0</th>\n",
       "      <td>1.0</td>\n",
       "      <td>2</td>\n",
       "    </tr>\n",
       "    <tr>\n",
       "      <th>1</th>\n",
       "      <td>4.0</td>\n",
       "      <td>1</td>\n",
       "    </tr>\n",
       "    <tr>\n",
       "      <th>2</th>\n",
       "      <td>5.0</td>\n",
       "      <td>5</td>\n",
       "    </tr>\n",
       "    <tr>\n",
       "      <th>3</th>\n",
       "      <td>6.0</td>\n",
       "      <td>3</td>\n",
       "    </tr>\n",
       "    <tr>\n",
       "      <th>4</th>\n",
       "      <td>8.0</td>\n",
       "      <td>1</td>\n",
       "    </tr>\n",
       "  </tbody>\n",
       "</table>\n",
       "</div>"
      ],
      "text/plain": [
       "   company_id  counts\n",
       "0         1.0       2\n",
       "1         4.0       1\n",
       "2         5.0       5\n",
       "3         6.0       3\n",
       "4         8.0       1"
      ]
     },
     "execution_count": 14,
     "metadata": {},
     "output_type": "execute_result"
    }
   ],
   "source": [
    "unique_notifying_parties_with_company_id_notna = unique_notifying_parties.merge(\n",
    "    df_dba_spellings,\n",
    "    left_on='notifying_party',\n",
    "    right_on='name',\n",
    "    how='left'\n",
    ").dropna(subset=['company_id'])\n",
    "\n",
    "print(\"Number of matched records from unique_notifying_parties:\", len(unique_notifying_parties_with_company_id_notna))\n",
    "\n",
    "\n",
    "# group by company_id and aggregate the number of entries\n",
    "df_grouped = unique_notifying_parties_with_company_id_notna.groupby(['company_id']).size().reset_index(name='counts')\n",
    "df_grouped.head()"
   ]
  },
  {
   "cell_type": "markdown",
   "metadata": {},
   "source": [
    "The following bar chart indicates how often alias groups of size n=1, 2, 3, 4 and 5 appear:"
   ]
  },
  {
   "cell_type": "code",
   "execution_count": 8,
   "metadata": {},
   "outputs": [
    {
     "data": {
      "image/png": "[encoded data removed]",
      "text/plain": [
       "<Figure size 500x300 with 1 Axes>"
      ]
     },
     "metadata": {},
     "output_type": "display_data"
    }
   ],
   "source": [
    "# Calculate the histogram of 'counts'\n",
    "hist_counts = df_grouped['counts'].value_counts().reset_index().sort_values(by='index')\n",
    "\n",
    "# Create the bar chart\n",
    "plt.figure(figsize=(5, 3))  # Adjust the figure size as needed\n",
    "plt.bar(hist_counts['index'], hist_counts['counts'], color='skyblue')\n",
    "plt.xlabel('Count')\n",
    "plt.ylabel('Frequency')\n",
    "plt.title('Frequency of sizes of groups of different spellings (aliases) of notifying parties')\n",
    "plt.xticks(hist_counts['index'])  # Set x-axis ticks to the unique count values\n",
    "\n",
    "# Show the plot\n",
    "plt.tight_layout()\n",
    "plt.show()"
   ]
  },
  {
   "cell_type": "markdown",
   "metadata": {},
   "source": [
    "We will set all this information aside for now and use it later."
   ]
  },
  {
   "attachments": {},
   "cell_type": "markdown",
   "metadata": {},
   "source": [
    "<a id='section_id7'></a>"
   ]
  },
  {
   "cell_type": "markdown",
   "metadata": {},
   "source": [
    "#### c. Establishing a ground truth\n",
    "\n",
    "Using information from other sections of the project is a good start, but does not give us certainty regarding the question how many notifying parties exist in our dataset overall. Initially, we considered a fuzzy matching approach using the Levenshtein distance to compare similar strings against each other, which would have allowed us to form groups of strings above a certain similarity threshold and then treat every group as a separate notifying party. For an explanation on how to leverage fuzzy matching for such a task see an [earlier version of this notebook](https://nbviewer.org/github/KensingtonOscupant/germanyinc-shareholders/blob/3ed7e945e3f4b0c8a9abe9b4b58b0596da9b4976/src/exploration.ipynb#section_id7). However, this approach has considerable downsides, one of them being that it relies on the assumption that notifying parties only change their names slightly over time, which is not necessarily true. \n",
    "\n",
    "Ultimately, we decided against it in favour of using the external database [OpenCorporates](https://opencorporates.com/) as our ground truth. As an open-data project, we were fortunate to receive free API access."
   ]
  },
  {
   "cell_type": "markdown",
   "metadata": {},
   "source": [
    "<a id='section_id8'></a>"
   ]
  },
  {
   "cell_type": "markdown",
   "metadata": {},
   "source": [
    "##### aa. Reconciling data with the OpenCorporates Reconciliation API\n",
    "\n",
    "Firstly, we used the [OpenCorporates Reconcilition API](https://api.opencorporates.com/documentation/Open-Refine-Reconciliation-API) to match the notifying parties from our BaFin data to the legal corporate entites collected in the OpenCorporates database.  It is possible to use the endpoints from the Reconciliation API on their own, but for simple tasks, this is not even necessary as there is an endpoint specifically made for [OpenRefine](https://openrefine.org/), a free and open-source tool for cleaning, transforming, and enhancing messy and unstructured data. This approach allowed us to match 7454 out of 14457 notifying parties (51%).\n",
    "\n",
    "*Note to self: The CSV with the safely matched data is combined.csv*"
   ]
  },
  {
   "cell_type": "markdown",
   "metadata": {},
   "source": [
    "<a id='section_id9'></a>"
   ]
  },
  {
   "cell_type": "markdown",
   "metadata": {},
   "source": [
    "##### bb. Retrieving previous company names from OpenCorporates\n",
    "\n",
    "Unfortunately, the OpenCorporates Reconciliation API would not take us any further from here because it matches results based on an internal score that takes into account string similarity and various other factors specific to OpenCorporates data ([OpenCorporates Reconciliation API documentation](https://api.opencorporates.com/documentation/Reconciliation_API_documentation_v0.1.pdf), p. 2). This score cannot be changed by the user, which means that it can also not be configured to match records in a less confident way.\n",
    "\n",
    "This is why we retrieved previous company names for our notifying parties through the [regular OpenCorporates REST API](https://api.opencorporates.com/documentation/API-Reference) and then matched records that these previous names were matching with."
   ]
  },
  {
   "cell_type": "code",
   "execution_count": null,
   "metadata": {},
   "outputs": [],
   "source": [
    "import os\n",
    "import dotenv\n",
    "import requests\n",
    "import json\n",
    "from tqdm import tqdm\n",
    "\n",
    "# set up environment variables\n",
    "dotenv.load_dotenv()\n",
    "OPENCORPORATES_API_KEY = os.getenv(\"OPENCORPORATES_API_KEY\")"
   ]
  },
  {
   "cell_type": "code",
   "execution_count": null,
   "metadata": {},
   "outputs": [],
   "source": [
    "# Set up the OpenCorporates API URL\n",
    "api_base_url = \"https://api.opencorporates.com/v0.4/companies/{}/{}?api_token={}\"\n",
    "\n",
    "# Define a function to retrieve the previous names from the OpenCorporates API for a given URL\n",
    "def get_previous_names(url):\n",
    "    # Extract the jurisdiction code and company number from the OpenCorporates URL\n",
    "    jurisdiction_code, company_number = url.split(\"/\")[-2:]\n",
    "\n",
    "    # Construct the OpenCorporates API URL using the jurisdiction code, company number, and your API key\n",
    "    api_url = api_base_url.format(jurisdiction_code, company_number, OPENCORPORATES_API_KEY)\n",
    "\n",
    "    # Make a GET request to the OpenCorporates API URL and parse the JSON response\n",
    "    response = requests.get(api_url)\n",
    "    data = json.loads(response.text)\n",
    "\n",
    "    # Extract the previous names from the JSON response and return them\n",
    "    return [name[\"company_name\"] for name in data[\"results\"][\"company\"].get(\"previous_names\", [])]"
   ]
  },
  {
   "cell_type": "markdown",
   "metadata": {},
   "source": [
    "Since the connection to the API would cut off every once in a while, it was necessary to split the file into batches and process them separately."
   ]
  },
  {
   "cell_type": "code",
   "execution_count": null,
   "metadata": {},
   "outputs": [],
   "source": [
    "# Split the original DataFrame into batches of 50 rows each\n",
    "batch_size = 50\n",
    "num_batches = df.shape[0] // batch_size + 1\n",
    "batch_dfs = [df[i * batch_size:(i + 1) * batch_size] for i in range(num_batches)]"
   ]
  },
  {
   "cell_type": "code",
   "execution_count": null,
   "metadata": {},
   "outputs": [],
   "source": [
    "# Loop through the batches\n",
    "for i, batch_df in tqdm(enumerate(batch_dfs), total=num_batches, desc='Processing batches'):\n",
    "    batch_df['previous_names'] = batch_df.loc[batch_df['OpenCorporates URL'].notnull(), 'OpenCorporates URL'].apply(get_previous_names)\n",
    "    \n",
    "    # Save the modified batch DataFrame to a new CSV file\n",
    "    batch_df.to_csv(f'batch_{i + 1}.csv', index=False)"
   ]
  },
  {
   "cell_type": "markdown",
   "metadata": {},
   "source": [
    "Finally, we bring the batches back together into one file:"
   ]
  },
  {
   "cell_type": "code",
   "execution_count": null,
   "metadata": {},
   "outputs": [],
   "source": [
    "# Combine all the smaller batch CSVs into a larger one\n",
    "combined_df = pd.concat([pd.read_csv(f'batch_{i + 1}.csv') for i in range(num_batches)])\n",
    "\n",
    "# Save the combined DataFrame to a new CSV file\n",
    "combined_df.to_csv('combined.csv', index=False)"
   ]
  },
  {
   "cell_type": "markdown",
   "metadata": {},
   "source": [
    "The result of this was a dataframe that contained the previous names of companies for every OpenCorporates URL (if present). Now we can use the previous names to match records that have a previous name of another record as their `notifying_party` value to their respective OpenCorporates data."
   ]
  },
  {
   "cell_type": "code",
   "execution_count": null,
   "metadata": {},
   "outputs": [],
   "source": [
    "import ast\n",
    "\n",
    "# Iterate through each row in the DataFrame\n",
    "for index, row in df.iterrows():\n",
    "    # Check if 'previous_names' column has any aliases\n",
    "    if pd.notna(row['previous_names']):\n",
    "        # Convert the string representation of the list to an actual list\n",
    "        aliases = ast.literal_eval(row['previous_names'])\n",
    "        \n",
    "        # Iterate through aliases\n",
    "        for alias in aliases:\n",
    "            # Remove leading and trailing whitespaces\n",
    "            alias = alias.strip()\n",
    "            \n",
    "            # Check if the alias exists in 'notifying_party' column of other rows\n",
    "            alias_exists = df[df['notifying_party'] == alias]\n",
    "            \n",
    "            if not alias_exists.empty:\n",
    "                # Get the URL from the row where the alias comes from\n",
    "                alias_url = row['OpenCorporates URL']\n",
    "                \n",
    "                # Update the URL column in rows where the alias appears\n",
    "                df.loc[alias_exists.index, 'OpenCorporates URL'] = alias_url\n",
    "\n",
    "# Save the updated DataFrame to a CSV file\n",
    "df.to_csv('../data/df_with_aliases.csv', index=False)"
   ]
  },
  {
   "cell_type": "markdown",
   "metadata": {},
   "source": [
    "This allowed us to match another 138 records."
   ]
  },
  {
   "cell_type": "markdown",
   "metadata": {},
   "source": [
    "<a id='section_id10'></a>"
   ]
  },
  {
   "cell_type": "markdown",
   "metadata": {},
   "source": [
    "##### cc. Matching notifying parties using GPT3.5\n",
    "\n"
   ]
  }
 ],
 "metadata": {
  "kernelspec": {
   "display_name": "germanyinc_venv",
   "language": "python",
   "name": "python3"
  },
  "language_info": {
   "codemirror_mode": {
    "name": "ipython",
    "version": 3
   },
   "file_extension": ".py",
   "mimetype": "text/x-python",
   "name": "python",
   "nbconvert_exporter": "python",
   "pygments_lexer": "ipython3",
   "version": "3.10.2"
  },
  "orig_nbformat": 4,
  "vscode": {
   "interpreter": {
    "hash": "973aa787986695ed94fcea55413d374a47d4947c5a7ca78da27820c646afab12"
   }
  }
 },
 "nbformat": 4,
 "nbformat_minor": 2
}
