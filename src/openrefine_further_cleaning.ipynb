{
 "cells": [
  {
   "cell_type": "code",
   "execution_count": 1,
   "metadata": {},
   "outputs": [],
   "source": [
    "import pandas as pd\n",
    "import os\n",
    "import dotenv\n",
    "import requests\n",
    "import json\n",
    "\n",
    "# set up environment variables\n",
    "dotenv.load_dotenv()\n",
    "OPENCORPORATES_API_KEY = os.getenv(\"OPENCORPORATES_API_KEY\")"
   ]
  },
  {
   "cell_type": "code",
   "execution_count": 5,
   "metadata": {},
   "outputs": [],
   "source": [
    "df = pd.read_csv('../data/openrefine-unique-notifying-parties.csv')"
   ]
  },
  {
   "cell_type": "code",
   "execution_count": 3,
   "metadata": {},
   "outputs": [
    {
     "data": {
      "text/html": [
       "<div>\n",
       "<style scoped>\n",
       "    .dataframe tbody tr th:only-of-type {\n",
       "        vertical-align: middle;\n",
       "    }\n",
       "\n",
       "    .dataframe tbody tr th {\n",
       "        vertical-align: top;\n",
       "    }\n",
       "\n",
       "    .dataframe thead th {\n",
       "        text-align: right;\n",
       "    }\n",
       "</style>\n",
       "<table border=\"1\" class=\"dataframe\">\n",
       "  <thead>\n",
       "    <tr style=\"text-align: right;\">\n",
       "      <th></th>\n",
       "      <th>notifying_party</th>\n",
       "      <th>Matched company name</th>\n",
       "      <th>OpenCorporates URL</th>\n",
       "    </tr>\n",
       "  </thead>\n",
       "  <tbody>\n",
       "    <tr>\n",
       "      <th>0</th>\n",
       "      <td>ROTHENBERGER Vermögensverwaltung GbR 4xS</td>\n",
       "      <td>NaN</td>\n",
       "      <td>NaN</td>\n",
       "    </tr>\n",
       "    <tr>\n",
       "      <th>1</th>\n",
       "      <td>Rothenberger, Dr., Helmut</td>\n",
       "      <td>NaN</td>\n",
       "      <td>NaN</td>\n",
       "    </tr>\n",
       "    <tr>\n",
       "      <th>2</th>\n",
       "      <td>Schneider, Franz Jürgen</td>\n",
       "      <td>NaN</td>\n",
       "      <td>NaN</td>\n",
       "    </tr>\n",
       "    <tr>\n",
       "      <th>3</th>\n",
       "      <td>3i Group plc</td>\n",
       "      <td>3I GROUP PLC</td>\n",
       "      <td>http://opencorporates.com/companies/gb/01142830</td>\n",
       "    </tr>\n",
       "    <tr>\n",
       "      <th>4</th>\n",
       "      <td>3i Deutschland Gesellschaft für Industriebetei...</td>\n",
       "      <td>3i Deutschland Gesellschaft für Industriebetei...</td>\n",
       "      <td>http://opencorporates.com/companies/de/M1201_H...</td>\n",
       "    </tr>\n",
       "  </tbody>\n",
       "</table>\n",
       "</div>"
      ],
      "text/plain": [
       "                                     notifying_party  \\\n",
       "0           ROTHENBERGER Vermögensverwaltung GbR 4xS   \n",
       "1                          Rothenberger, Dr., Helmut   \n",
       "2                            Schneider, Franz Jürgen   \n",
       "3                                       3i Group plc   \n",
       "4  3i Deutschland Gesellschaft für Industriebetei...   \n",
       "\n",
       "                                Matched company name  \\\n",
       "0                                                NaN   \n",
       "1                                                NaN   \n",
       "2                                                NaN   \n",
       "3                                       3I GROUP PLC   \n",
       "4  3i Deutschland Gesellschaft für Industriebetei...   \n",
       "\n",
       "                                  OpenCorporates URL  \n",
       "0                                                NaN  \n",
       "1                                                NaN  \n",
       "2                                                NaN  \n",
       "3    http://opencorporates.com/companies/gb/01142830  \n",
       "4  http://opencorporates.com/companies/de/M1201_H...  "
      ]
     },
     "execution_count": 3,
     "metadata": {},
     "output_type": "execute_result"
    }
   ],
   "source": [
    "df.head(5)"
   ]
  },
  {
   "cell_type": "code",
   "execution_count": 4,
   "metadata": {},
   "outputs": [
    {
     "data": {
      "text/plain": [
       "OpenCorporates URL\n",
       "http://opencorporates.com/companies/us_de/3736888        4\n",
       "http://opencorporates.com/companies/lu/B153466           4\n",
       "http://opencorporates.com/companies/fr/352045454         3\n",
       "http://opencorporates.com/companies/bm/26108             3\n",
       "http://opencorporates.com/companies/gb/02312079          3\n",
       "                                                        ..\n",
       "http://opencorporates.com/companies/de/M1201_HRB42023    1\n",
       "http://opencorporates.com/companies/de/M1201_HRB41496    1\n",
       "http://opencorporates.com/companies/de/M1201_HRB40601    1\n",
       "http://opencorporates.com/companies/de/M1201_HRB39682    1\n",
       "http://opencorporates.com/companies/za/2012-045177-07    1\n",
       "Length: 6986, dtype: int64"
      ]
     },
     "execution_count": 4,
     "metadata": {},
     "output_type": "execute_result"
    }
   ],
   "source": [
    "# group by 'Matched Name'\n",
    "df_grouped = df.groupby('OpenCorporates URL').size()\n",
    "# sort by size\n",
    "df_grouped.sort_values(ascending=False)"
   ]
  },
  {
   "attachments": {},
   "cell_type": "markdown",
   "metadata": {},
   "source": [
    "### Retrieving previous company names"
   ]
  },
  {
   "cell_type": "code",
   "execution_count": 6,
   "metadata": {},
   "outputs": [],
   "source": [
    "# Set up the OpenCorporates API URL\n",
    "api_base_url = \"https://api.opencorporates.com/v0.4/companies/{}/{}?api_token={}\"\n",
    "\n",
    "# Define a function to retrieve the previous names from the OpenCorporates API for a given URL\n",
    "def get_previous_names(url):\n",
    "    # Extract the jurisdiction code and company number from the OpenCorporates URL\n",
    "    jurisdiction_code, company_number = url.split(\"/\")[-2:]\n",
    "\n",
    "    # Construct the OpenCorporates API URL using the jurisdiction code, company number, and your API key\n",
    "    api_url = api_base_url.format(jurisdiction_code, company_number, OPENCORPORATES_API_KEY)\n",
    "\n",
    "    # Make a GET request to the OpenCorporates API URL and parse the JSON response\n",
    "    response = requests.get(api_url)\n",
    "    data = json.loads(response.text)\n",
    "\n",
    "    # Extract the previous names from the JSON response and return them\n",
    "    return [name[\"company_name\"] for name in data[\"results\"][\"company\"].get(\"previous_names\", [])]\n",
    "\n",
    "# Add a new column 'previous_names' to the dataframe, containing the previous names for each row with an OpenCorporates URL\n",
    "df['previous_names'] = df.loc[df['OpenCorporates URL'].notnull(), 'OpenCorporates URL'].apply(get_previous_names)\n",
    "\n",
    "# Iterate over each row in the dataframe\n",
    "for index, row in df.iterrows():\n",
    "    # Check if the row has an OpenCorporates URL and previous names\n",
    "    if pd.notnull(row['OpenCorporates URL']) and row['previous_names']:\n",
    "        # Iterate over each previous name\n",
    "        for prev_name in row['previous_names']:\n",
    "            # Check if the previous name appears in the notifying_party column\n",
    "            if prev_name in df.loc[df['notifying_party'].notnull(), 'notifying_party'].values:\n",
    "                # Set the OpenCorporates URL column of the current row to the URL of the row where the notifying_party matches the previous name\n",
    "                df.loc[df['notifying_party'] == prev_name, 'OpenCorporates URL'] = row['OpenCorporates URL']\n",
    "                # df.loc[index, 'OpenCorporates URL'] = df.loc[df['notifying_party'] == prev_name, 'OpenCorporates URL'].values[0]\n"
   ]
  },
  {
   "cell_type": "code",
   "execution_count": null,
   "metadata": {},
   "outputs": [],
   "source": [
    "# save the dataframe as a CSV with the name 'openrefine-with-previous-names.csv'\n",
    "df.to_csv('../data/openrefine-with-previous-names.csv', index=False)"
   ]
  }
 ],
 "metadata": {
  "kernelspec": {
   "display_name": "germanyinc_venv",
   "language": "python",
   "name": "python3"
  },
  "language_info": {
   "codemirror_mode": {
    "name": "ipython",
    "version": 3
   },
   "file_extension": ".py",
   "mimetype": "text/x-python",
   "name": "python",
   "nbconvert_exporter": "python",
   "pygments_lexer": "ipython3",
   "version": "3.10.4"
  },
  "orig_nbformat": 4
 },
 "nbformat": 4,
 "nbformat_minor": 2
}
